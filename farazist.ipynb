{
  "nbformat": 4,
  "nbformat_minor": 0,
  "metadata": {
    "colab": {
      "name": "farazist.ipynb",
      "provenance": [],
      "collapsed_sections": [],
      "toc_visible": true
    },
    "kernelspec": {
      "name": "python3",
      "display_name": "Python 3"
    },
    "accelerator": "GPU"
  },
  "cells": [
    {
      "cell_type": "code",
      "metadata": {
        "id": "z05foMum3swA",
        "colab_type": "code",
        "colab": {}
      },
      "source": [
        "!nvidia-smi"
      ],
      "execution_count": 0,
      "outputs": []
    },
    {
      "cell_type": "code",
      "metadata": {
        "id": "Dy5AReIwbuJl",
        "colab_type": "code",
        "outputId": "c1b21ae0-1b33-4c4b-aa18-74a19e11c6f0",
        "colab": {
          "base_uri": "https://localhost:8080/",
          "height": 122
        }
      },
      "source": [
        "from google.colab import drive\n",
        "drive.mount('/content/drive/')"
      ],
      "execution_count": 0,
      "outputs": [
        {
          "output_type": "stream",
          "text": [
            "Go to this URL in a browser: https://accounts.google.com/o/oauth2/auth?client_id=947318989803-6bn6qk8qdgf4n4g3pfee6491hc0brc4i.apps.googleusercontent.com&redirect_uri=urn%3aietf%3awg%3aoauth%3a2.0%3aoob&response_type=code&scope=email%20https%3a%2f%2fwww.googleapis.com%2fauth%2fdocs.test%20https%3a%2f%2fwww.googleapis.com%2fauth%2fdrive%20https%3a%2f%2fwww.googleapis.com%2fauth%2fdrive.photos.readonly%20https%3a%2f%2fwww.googleapis.com%2fauth%2fpeopleapi.readonly\n",
            "\n",
            "Enter your authorization code:\n",
            "··········\n",
            "Mounted at /content/drive/\n"
          ],
          "name": "stdout"
        }
      ]
    },
    {
      "cell_type": "code",
      "metadata": {
        "id": "lMlf2cMntzwQ",
        "colab_type": "code",
        "colab": {}
      },
      "source": [
        "import numpy as np\n",
        "import pandas as pd\n",
        "from tensorflow.keras.models import Sequential, Model\n",
        "from tensorflow.keras.layers import Dense, Flatten\n",
        "from tensorflow.keras.optimizers import SGD, Adam\n",
        "from tensorflow.keras.preprocessing.image import ImageDataGenerator\n",
        "import tensorflow as tf\n",
        "import keras\n",
        "from matplotlib import pyplot as plt"
      ],
      "execution_count": 0,
      "outputs": []
    },
    {
      "cell_type": "code",
      "metadata": {
        "id": "-jqQBbWTBUo9",
        "colab_type": "code",
        "colab": {}
      },
      "source": [
        "directory = \"/content/drive/My Drive/Colab Notebooks/bottle\"\n",
        "width = height = 224\n",
        "batch_size = 32"
      ],
      "execution_count": 0,
      "outputs": []
    },
    {
      "cell_type": "code",
      "metadata": {
        "id": "S3Ht9aHIbrSg",
        "colab_type": "code",
        "outputId": "5a04fef2-9091-4961-ab4f-aaaeae1ac281",
        "colab": {
          "base_uri": "https://localhost:8080/",
          "height": 51
        }
      },
      "source": [
        "data_generator = ImageDataGenerator(\n",
        "    rescale=1./255,\n",
        "    rotation_range=8,\n",
        "    width_shift_range=0.5,\n",
        "    height_shift_range=0.1,\n",
        "    horizontal_flip=True,\n",
        "    vertical_flip=True,\n",
        "    #   zoom = 20,\n",
        "    fill_mode='nearest',\n",
        "    validation_split = 0.1\n",
        "    )\n",
        "\n",
        "train_data = data_generator.flow_from_directory(\n",
        "        directory,\n",
        "        target_size=(width, height),\n",
        "        batch_size = batch_size,\n",
        "        class_mode='categorical',\n",
        "        subset = 'training')\n",
        " \n",
        "validation_data = data_generator.flow_from_directory(\n",
        "        directory,\n",
        "        target_size=(width, height),\n",
        "        class_mode='categorical',\n",
        "        batch_size = batch_size,\n",
        "        shuffle=True,\n",
        "        subset = 'validation')"
      ],
      "execution_count": 0,
      "outputs": [
        {
          "output_type": "stream",
          "text": [
            "Found 2209 images belonging to 28 classes.\n",
            "Found 233 images belonging to 28 classes.\n"
          ],
          "name": "stdout"
        }
      ]
    },
    {
      "cell_type": "code",
      "metadata": {
        "id": "-90GuXSJcf5H",
        "colab_type": "code",
        "outputId": "8a82f534-5d7f-4055-a3ce-376dba7f6765",
        "colab": {
          "base_uri": "https://localhost:8080/",
          "height": 51
        }
      },
      "source": [
        "base_model = tf.keras.applications.MobileNetV2(\n",
        "    input_shape=(width, height, 3),\n",
        "    alpha=1.0,\n",
        "    include_top=False, \n",
        "    weights='imagenet', \n",
        "    input_tensor=None, \n",
        "    pooling='avg')"
      ],
      "execution_count": 0,
      "outputs": [
        {
          "output_type": "stream",
          "text": [
            "Downloading data from https://storage.googleapis.com/tensorflow/keras-applications/mobilenet_v2/mobilenet_v2_weights_tf_dim_ordering_tf_kernels_1.0_224_no_top.h5\n",
            "9412608/9406464 [==============================] - 0s 0us/step\n"
          ],
          "name": "stdout"
        }
      ]
    },
    {
      "cell_type": "code",
      "metadata": {
        "id": "Evt6EsFhBrHZ",
        "colab_type": "code",
        "cellView": "form",
        "colab": {}
      },
      "source": [
        "#@title\n",
        "base_model = tf.keras.applications.vgg19.VGG19(\n",
        "    input_shape=(width, height, 3),\n",
        "    include_top=False, \n",
        "    weights='imagenet', \n",
        "    input_tensor=None, \n",
        "    pooling='avg')"
      ],
      "execution_count": 0,
      "outputs": []
    },
    {
      "cell_type": "code",
      "metadata": {
        "id": "5M-e6NhdREQz",
        "colab_type": "code",
        "colab": {}
      },
      "source": [
        "print(base_model.summary())"
      ],
      "execution_count": 0,
      "outputs": []
    },
    {
      "cell_type": "code",
      "metadata": {
        "id": "CwHwloOB1Nba",
        "colab_type": "code",
        "colab": {}
      },
      "source": [
        "tf.keras.utils.plot_model(base_model, show_shapes=True)"
      ],
      "execution_count": 0,
      "outputs": []
    },
    {
      "cell_type": "code",
      "metadata": {
        "id": "iWL5i6dVwu_W",
        "colab_type": "code",
        "cellView": "form",
        "colab": {}
      },
      "source": [
        "#@title\n",
        "model = Sequential()\n",
        "model.add(base_model)\n",
        "model.add(Dense(4096, activation='relu'))\n",
        "model.add(Dense(1000, activation='relu'))\n",
        "model.add(Dense(28, activation='softmax'))"
      ],
      "execution_count": 0,
      "outputs": []
    },
    {
      "cell_type": "code",
      "metadata": {
        "id": "M07Rgn9FdUBo",
        "colab_type": "code",
        "colab": {}
      },
      "source": [
        "model = tf.keras.models.Sequential([\n",
        "    base_model,\n",
        "    Dense(28, activation='softmax')\n",
        "])"
      ],
      "execution_count": 0,
      "outputs": []
    },
    {
      "cell_type": "code",
      "metadata": {
        "id": "seoZekgdTq5a",
        "colab_type": "code",
        "cellView": "form",
        "colab": {}
      },
      "source": [
        "#@title\n",
        "model = tf.keras.models.Sequential([\n",
        "    base_model,\n",
        "    Dense(4096, activation='relu'),\n",
        "    Dense(1000, activation='relu'),\n",
        "    Dense(28, activation='softmax')\n",
        "])"
      ],
      "execution_count": 0,
      "outputs": []
    },
    {
      "cell_type": "code",
      "metadata": {
        "id": "JYvEpFeRdtGg",
        "colab_type": "code",
        "colab": {}
      },
      "source": [
        "model.compile(loss=tf.keras.losses.categorical_crossentropy,\n",
        "              optimizer=tf.keras.optimizers.Adadelta(\n",
        "                  learning_rate=0.001, \n",
        "                  rho=0.95, \n",
        "                  epsilon=1e-07, \n",
        "                  name='Adadelta'),\n",
        "              metrics=['acc'])"
      ],
      "execution_count": 0,
      "outputs": []
    },
    {
      "cell_type": "code",
      "metadata": {
        "id": "QAUV1CMidzKU",
        "colab_type": "code",
        "outputId": "bf4defa8-1311-41f8-e87c-da1ae9c1e75a",
        "colab": {
          "base_uri": "https://localhost:8080/",
          "height": 1000
        }
      },
      "source": [
        "history = model.fit(\n",
        "    train_data,\n",
        "    steps_per_epoch = train_data.samples // batch_size,\n",
        "    epochs=100,\n",
        "    shuffle = True,\n",
        "    validation_data=validation_data,\n",
        "    validation_steps = validation_data.samples // batch_size,\n",
        "    verbose = 1)"
      ],
      "execution_count": 0,
      "outputs": [
        {
          "output_type": "stream",
          "text": [
            "Epoch 1/100\n",
            "69/69 [==============================] - 763s 11s/step - loss: 3.5640 - acc: 0.0473 - val_loss: 3.6617 - val_acc: 0.0312\n",
            "Epoch 2/100\n",
            "69/69 [==============================] - 85s 1s/step - loss: 3.4634 - acc: 0.0634 - val_loss: 3.6477 - val_acc: 0.0491\n",
            "Epoch 3/100\n",
            "69/69 [==============================] - 85s 1s/step - loss: 3.3933 - acc: 0.0689 - val_loss: 3.5791 - val_acc: 0.0446\n",
            "Epoch 4/100\n",
            "69/69 [==============================] - 85s 1s/step - loss: 3.3068 - acc: 0.0868 - val_loss: 3.5193 - val_acc: 0.0446\n",
            "Epoch 5/100\n",
            "69/69 [==============================] - 85s 1s/step - loss: 3.2451 - acc: 0.0988 - val_loss: 3.4727 - val_acc: 0.0580\n",
            "Epoch 6/100\n",
            "69/69 [==============================] - 84s 1s/step - loss: 3.1646 - acc: 0.1203 - val_loss: 3.4099 - val_acc: 0.0491\n",
            "Epoch 7/100\n",
            "69/69 [==============================] - 85s 1s/step - loss: 3.1170 - acc: 0.1364 - val_loss: 3.3950 - val_acc: 0.0714\n",
            "Epoch 8/100\n",
            "69/69 [==============================] - 87s 1s/step - loss: 3.0341 - acc: 0.1612 - val_loss: 3.2734 - val_acc: 0.0938\n",
            "Epoch 9/100\n",
            "69/69 [==============================] - 86s 1s/step - loss: 2.9761 - acc: 0.1750 - val_loss: 3.3137 - val_acc: 0.0938\n",
            "Epoch 10/100\n",
            "69/69 [==============================] - 86s 1s/step - loss: 2.9226 - acc: 0.2017 - val_loss: 3.1819 - val_acc: 0.1161\n",
            "Epoch 11/100\n",
            "69/69 [==============================] - 81s 1s/step - loss: 2.8462 - acc: 0.2352 - val_loss: 3.1737 - val_acc: 0.1161\n",
            "Epoch 12/100\n",
            "69/69 [==============================] - 82s 1s/step - loss: 2.7780 - acc: 0.2549 - val_loss: 3.1110 - val_acc: 0.1116\n",
            "Epoch 13/100\n",
            "69/69 [==============================] - 84s 1s/step - loss: 2.7129 - acc: 0.2751 - val_loss: 3.1381 - val_acc: 0.1339\n",
            "Epoch 14/100\n",
            "69/69 [==============================] - 82s 1s/step - loss: 2.6728 - acc: 0.2825 - val_loss: 3.0052 - val_acc: 0.1607\n",
            "Epoch 15/100\n",
            "69/69 [==============================] - 82s 1s/step - loss: 2.6130 - acc: 0.3101 - val_loss: 3.0221 - val_acc: 0.1429\n",
            "Epoch 16/100\n",
            "69/69 [==============================] - 81s 1s/step - loss: 2.5476 - acc: 0.3225 - val_loss: 2.8957 - val_acc: 0.1920\n",
            "Epoch 17/100\n",
            "69/69 [==============================] - 83s 1s/step - loss: 2.4786 - acc: 0.3505 - val_loss: 2.8909 - val_acc: 0.2098\n",
            "Epoch 18/100\n",
            "69/69 [==============================] - 82s 1s/step - loss: 2.4538 - acc: 0.3638 - val_loss: 2.8548 - val_acc: 0.1964\n",
            "Epoch 19/100\n",
            "69/69 [==============================] - 83s 1s/step - loss: 2.3841 - acc: 0.3863 - val_loss: 2.7897 - val_acc: 0.2321\n",
            "Epoch 20/100\n",
            "69/69 [==============================] - 82s 1s/step - loss: 2.3209 - acc: 0.4093 - val_loss: 2.7423 - val_acc: 0.2054\n",
            "Epoch 21/100\n",
            "69/69 [==============================] - 81s 1s/step - loss: 2.2779 - acc: 0.4231 - val_loss: 2.7222 - val_acc: 0.2054\n",
            "Epoch 22/100\n",
            "69/69 [==============================] - 83s 1s/step - loss: 2.2310 - acc: 0.4419 - val_loss: 2.5617 - val_acc: 0.2723\n",
            "Epoch 23/100\n",
            "69/69 [==============================] - 83s 1s/step - loss: 2.1765 - acc: 0.4557 - val_loss: 2.6116 - val_acc: 0.2723\n",
            "Epoch 24/100\n",
            "69/69 [==============================] - 87s 1s/step - loss: 2.1317 - acc: 0.4786 - val_loss: 2.5135 - val_acc: 0.3170\n",
            "Epoch 25/100\n",
            "69/69 [==============================] - 89s 1s/step - loss: 2.0793 - acc: 0.4851 - val_loss: 2.4164 - val_acc: 0.3348\n",
            "Epoch 26/100\n",
            "69/69 [==============================] - 86s 1s/step - loss: 2.0407 - acc: 0.4906 - val_loss: 2.4123 - val_acc: 0.3750\n",
            "Epoch 27/100\n",
            "69/69 [==============================] - 86s 1s/step - loss: 1.9698 - acc: 0.5305 - val_loss: 2.2978 - val_acc: 0.3839\n",
            "Epoch 28/100\n",
            "69/69 [==============================] - 87s 1s/step - loss: 1.9624 - acc: 0.5250 - val_loss: 2.2747 - val_acc: 0.4241\n",
            "Epoch 29/100\n",
            "69/69 [==============================] - 87s 1s/step - loss: 1.8876 - acc: 0.5521 - val_loss: 2.2121 - val_acc: 0.4643\n",
            "Epoch 30/100\n",
            "69/69 [==============================] - 86s 1s/step - loss: 1.8425 - acc: 0.5613 - val_loss: 2.2649 - val_acc: 0.4018\n",
            "Epoch 31/100\n",
            "69/69 [==============================] - 86s 1s/step - loss: 1.8381 - acc: 0.5599 - val_loss: 2.0084 - val_acc: 0.5357\n",
            "Epoch 32/100\n",
            "69/69 [==============================] - 86s 1s/step - loss: 1.7643 - acc: 0.5898 - val_loss: 2.0602 - val_acc: 0.4955\n",
            "Epoch 33/100\n",
            "69/69 [==============================] - 86s 1s/step - loss: 1.7414 - acc: 0.6059 - val_loss: 2.0141 - val_acc: 0.5000\n",
            "Epoch 34/100\n",
            "69/69 [==============================] - 86s 1s/step - loss: 1.6952 - acc: 0.6123 - val_loss: 1.8748 - val_acc: 0.5536\n",
            "Epoch 35/100\n",
            "69/69 [==============================] - 85s 1s/step - loss: 1.6500 - acc: 0.6169 - val_loss: 1.8759 - val_acc: 0.5670\n",
            "Epoch 36/100\n",
            "69/69 [==============================] - 86s 1s/step - loss: 1.6261 - acc: 0.6403 - val_loss: 1.7887 - val_acc: 0.5938\n",
            "Epoch 37/100\n",
            "69/69 [==============================] - 85s 1s/step - loss: 1.5855 - acc: 0.6426 - val_loss: 1.7909 - val_acc: 0.5893\n",
            "Epoch 38/100\n",
            "69/69 [==============================] - 84s 1s/step - loss: 1.5604 - acc: 0.6449 - val_loss: 1.6287 - val_acc: 0.6562\n",
            "Epoch 39/100\n",
            "69/69 [==============================] - 84s 1s/step - loss: 1.5088 - acc: 0.6808 - val_loss: 1.7189 - val_acc: 0.6205\n",
            "Epoch 40/100\n",
            "69/69 [==============================] - 82s 1s/step - loss: 1.4655 - acc: 0.6909 - val_loss: 1.6375 - val_acc: 0.5982\n",
            "Epoch 41/100\n",
            "69/69 [==============================] - 82s 1s/step - loss: 1.4424 - acc: 0.6936 - val_loss: 1.5617 - val_acc: 0.7098\n",
            "Epoch 42/100\n",
            "69/69 [==============================] - 79s 1s/step - loss: 1.4146 - acc: 0.6936 - val_loss: 1.4539 - val_acc: 0.7277\n",
            "Epoch 43/100\n",
            "69/69 [==============================] - 80s 1s/step - loss: 1.3668 - acc: 0.7074 - val_loss: 1.4904 - val_acc: 0.6830\n",
            "Epoch 44/100\n",
            "69/69 [==============================] - 79s 1s/step - loss: 1.3630 - acc: 0.7166 - val_loss: 1.4465 - val_acc: 0.6786\n",
            "Epoch 45/100\n",
            "69/69 [==============================] - 78s 1s/step - loss: 1.3061 - acc: 0.7400 - val_loss: 1.3843 - val_acc: 0.7098\n",
            "Epoch 46/100\n",
            "69/69 [==============================] - 77s 1s/step - loss: 1.2903 - acc: 0.7115 - val_loss: 1.3315 - val_acc: 0.7366\n",
            "Epoch 47/100\n",
            "69/69 [==============================] - 78s 1s/step - loss: 1.2411 - acc: 0.7565 - val_loss: 1.3052 - val_acc: 0.7679\n",
            "Epoch 48/100\n",
            "69/69 [==============================] - 77s 1s/step - loss: 1.2045 - acc: 0.7735 - val_loss: 1.2822 - val_acc: 0.7589\n",
            "Epoch 49/100\n",
            "69/69 [==============================] - 80s 1s/step - loss: 1.1920 - acc: 0.7588 - val_loss: 1.1915 - val_acc: 0.7857\n",
            "Epoch 50/100\n",
            "69/69 [==============================] - 84s 1s/step - loss: 1.1637 - acc: 0.7772 - val_loss: 1.1646 - val_acc: 0.7634\n",
            "Epoch 51/100\n",
            "69/69 [==============================] - 93s 1s/step - loss: 1.1494 - acc: 0.7827 - val_loss: 1.1530 - val_acc: 0.7768\n",
            "Epoch 52/100\n",
            "69/69 [==============================] - 87s 1s/step - loss: 1.1215 - acc: 0.7827 - val_loss: 1.2085 - val_acc: 0.7455\n",
            "Epoch 53/100\n",
            "69/69 [==============================] - 85s 1s/step - loss: 1.0916 - acc: 0.7933 - val_loss: 1.0888 - val_acc: 0.7768\n",
            "Epoch 54/100\n",
            "69/69 [==============================] - 87s 1s/step - loss: 1.0652 - acc: 0.8140 - val_loss: 1.0266 - val_acc: 0.8259\n",
            "Epoch 55/100\n",
            "69/69 [==============================] - 86s 1s/step - loss: 1.0431 - acc: 0.8052 - val_loss: 1.0271 - val_acc: 0.8259\n",
            "Epoch 56/100\n",
            "69/69 [==============================] - 86s 1s/step - loss: 1.0193 - acc: 0.8195 - val_loss: 0.9868 - val_acc: 0.8170\n",
            "Epoch 57/100\n",
            "69/69 [==============================] - 86s 1s/step - loss: 0.9930 - acc: 0.8121 - val_loss: 1.0064 - val_acc: 0.7991\n",
            "Epoch 58/100\n",
            "69/69 [==============================] - 86s 1s/step - loss: 0.9772 - acc: 0.8277 - val_loss: 0.9933 - val_acc: 0.8304\n",
            "Epoch 59/100\n",
            "69/69 [==============================] - 85s 1s/step - loss: 0.9760 - acc: 0.8232 - val_loss: 0.9561 - val_acc: 0.8393\n",
            "Epoch 60/100\n",
            "69/69 [==============================] - 84s 1s/step - loss: 0.9224 - acc: 0.8369 - val_loss: 0.9172 - val_acc: 0.8259\n",
            "Epoch 61/100\n",
            "69/69 [==============================] - 84s 1s/step - loss: 0.9159 - acc: 0.8415 - val_loss: 0.8675 - val_acc: 0.8705\n",
            "Epoch 62/100\n",
            "69/69 [==============================] - 85s 1s/step - loss: 0.8959 - acc: 0.8424 - val_loss: 0.9179 - val_acc: 0.8393\n",
            "Epoch 63/100\n",
            "69/69 [==============================] - 85s 1s/step - loss: 0.8749 - acc: 0.8438 - val_loss: 0.8431 - val_acc: 0.8393\n",
            "Epoch 64/100\n",
            "69/69 [==============================] - 84s 1s/step - loss: 0.8628 - acc: 0.8434 - val_loss: 0.7843 - val_acc: 0.8527\n",
            "Epoch 65/100\n",
            "69/69 [==============================] - 85s 1s/step - loss: 0.8247 - acc: 0.8590 - val_loss: 0.8356 - val_acc: 0.8304\n",
            "Epoch 66/100\n",
            "69/69 [==============================] - 85s 1s/step - loss: 0.8293 - acc: 0.8503 - val_loss: 0.7652 - val_acc: 0.8839\n",
            "Epoch 67/100\n",
            "69/69 [==============================] - 85s 1s/step - loss: 0.8019 - acc: 0.8668 - val_loss: 0.7251 - val_acc: 0.8929\n",
            "Epoch 68/100\n",
            "69/69 [==============================] - 85s 1s/step - loss: 0.7846 - acc: 0.8654 - val_loss: 0.7241 - val_acc: 0.8929\n",
            "Epoch 69/100\n",
            "69/69 [==============================] - 85s 1s/step - loss: 0.7807 - acc: 0.8691 - val_loss: 0.8272 - val_acc: 0.8438\n",
            "Epoch 70/100\n",
            "69/69 [==============================] - 85s 1s/step - loss: 0.7546 - acc: 0.8695 - val_loss: 0.7136 - val_acc: 0.8616\n",
            "Epoch 71/100\n",
            "69/69 [==============================] - 85s 1s/step - loss: 0.7240 - acc: 0.8792 - val_loss: 0.7364 - val_acc: 0.8839\n",
            "Epoch 72/100\n",
            "69/69 [==============================] - 85s 1s/step - loss: 0.7395 - acc: 0.8682 - val_loss: 0.6729 - val_acc: 0.8929\n",
            "Epoch 73/100\n",
            "69/69 [==============================] - 89s 1s/step - loss: 0.7172 - acc: 0.8769 - val_loss: 0.6911 - val_acc: 0.8839\n",
            "Epoch 74/100\n",
            "69/69 [==============================] - 87s 1s/step - loss: 0.7082 - acc: 0.8806 - val_loss: 0.6010 - val_acc: 0.9196\n",
            "Epoch 75/100\n",
            "69/69 [==============================] - 88s 1s/step - loss: 0.6901 - acc: 0.8801 - val_loss: 0.6175 - val_acc: 0.9062\n",
            "Epoch 76/100\n",
            "69/69 [==============================] - 86s 1s/step - loss: 0.6788 - acc: 0.8930 - val_loss: 0.6338 - val_acc: 0.8973\n",
            "Epoch 77/100\n",
            "69/69 [==============================] - 83s 1s/step - loss: 0.6499 - acc: 0.8921 - val_loss: 0.5826 - val_acc: 0.9196\n",
            "Epoch 78/100\n",
            "69/69 [==============================] - 82s 1s/step - loss: 0.6649 - acc: 0.8934 - val_loss: 0.5680 - val_acc: 0.9107\n",
            "Epoch 79/100\n",
            "69/69 [==============================] - 82s 1s/step - loss: 0.6473 - acc: 0.8957 - val_loss: 0.4983 - val_acc: 0.9330\n",
            "Epoch 80/100\n",
            "69/69 [==============================] - 82s 1s/step - loss: 0.6125 - acc: 0.9022 - val_loss: 0.5802 - val_acc: 0.8929\n",
            "Epoch 81/100\n",
            "69/69 [==============================] - 84s 1s/step - loss: 0.6223 - acc: 0.8916 - val_loss: 0.5617 - val_acc: 0.9152\n",
            "Epoch 82/100\n",
            "69/69 [==============================] - 83s 1s/step - loss: 0.6163 - acc: 0.8981 - val_loss: 0.5151 - val_acc: 0.9196\n",
            "Epoch 83/100\n",
            "69/69 [==============================] - 84s 1s/step - loss: 0.5925 - acc: 0.9003 - val_loss: 0.5688 - val_acc: 0.9152\n",
            "Epoch 84/100\n",
            "69/69 [==============================] - 84s 1s/step - loss: 0.5754 - acc: 0.9104 - val_loss: 0.4530 - val_acc: 0.9330\n",
            "Epoch 85/100\n",
            "69/69 [==============================] - 88s 1s/step - loss: 0.5838 - acc: 0.9008 - val_loss: 0.5640 - val_acc: 0.8973\n",
            "Epoch 86/100\n",
            "69/69 [==============================] - 90s 1s/step - loss: 0.5683 - acc: 0.9035 - val_loss: 0.5355 - val_acc: 0.9241\n",
            "Epoch 87/100\n",
            "69/69 [==============================] - 86s 1s/step - loss: 0.5558 - acc: 0.9072 - val_loss: 0.5050 - val_acc: 0.9241\n",
            "Epoch 88/100\n",
            "69/69 [==============================] - 85s 1s/step - loss: 0.5266 - acc: 0.9123 - val_loss: 0.5164 - val_acc: 0.9375\n",
            "Epoch 89/100\n",
            "69/69 [==============================] - 86s 1s/step - loss: 0.5220 - acc: 0.9159 - val_loss: 0.4898 - val_acc: 0.9286\n",
            "Epoch 90/100\n",
            "69/69 [==============================] - 89s 1s/step - loss: 0.5324 - acc: 0.9063 - val_loss: 0.4186 - val_acc: 0.9509\n",
            "Epoch 91/100\n",
            "69/69 [==============================] - 87s 1s/step - loss: 0.5264 - acc: 0.9068 - val_loss: 0.4412 - val_acc: 0.9241\n",
            "Epoch 92/100\n",
            "69/69 [==============================] - 88s 1s/step - loss: 0.4906 - acc: 0.9178 - val_loss: 0.4554 - val_acc: 0.9196\n",
            "Epoch 93/100\n",
            "69/69 [==============================] - 88s 1s/step - loss: 0.5105 - acc: 0.9127 - val_loss: 0.4346 - val_acc: 0.9330\n",
            "Epoch 94/100\n",
            "69/69 [==============================] - 86s 1s/step - loss: 0.4868 - acc: 0.9136 - val_loss: 0.3919 - val_acc: 0.9509\n",
            "Epoch 95/100\n",
            "69/69 [==============================] - 86s 1s/step - loss: 0.4776 - acc: 0.9201 - val_loss: 0.3899 - val_acc: 0.9598\n",
            "Epoch 96/100\n",
            "69/69 [==============================] - 85s 1s/step - loss: 0.4817 - acc: 0.9173 - val_loss: 0.4735 - val_acc: 0.9286\n",
            "Epoch 97/100\n",
            "69/69 [==============================] - 86s 1s/step - loss: 0.4807 - acc: 0.9123 - val_loss: 0.4705 - val_acc: 0.9062\n",
            "Epoch 98/100\n",
            "69/69 [==============================] - 86s 1s/step - loss: 0.4672 - acc: 0.9219 - val_loss: 0.3892 - val_acc: 0.9554\n",
            "Epoch 99/100\n",
            "69/69 [==============================] - 86s 1s/step - loss: 0.4607 - acc: 0.9150 - val_loss: 0.4427 - val_acc: 0.9196\n",
            "Epoch 100/100\n",
            "69/69 [==============================] - 86s 1s/step - loss: 0.4561 - acc: 0.9302 - val_loss: 0.4013 - val_acc: 0.9375\n"
          ],
          "name": "stdout"
        }
      ]
    },
    {
      "cell_type": "code",
      "metadata": {
        "id": "BM-3ywe3YZKb",
        "colab_type": "code",
        "outputId": "b4389f69-b614-4733-b92e-79af64013738",
        "colab": {
          "base_uri": "https://localhost:8080/",
          "height": 265
        }
      },
      "source": [
        "from matplotlib import pyplot as plt\n",
        "\n",
        "# plt.plot(history.history['loss'])\n",
        "plt.plot(history.history['acc'])\n",
        "plt.show()"
      ],
      "execution_count": 0,
      "outputs": [
        {
          "output_type": "display_data",
          "data": {
            "image/png": "[encoded data removed]",
            "text/plain": [
              "<Figure size 432x288 with 1 Axes>"
            ]
          },
          "metadata": {
            "tags": [],
            "needs_background": "light"
          }
        }
      ]
    },
    {
      "cell_type": "code",
      "metadata": {
        "id": "sCSOa5gg29lJ",
        "colab_type": "code",
        "outputId": "492546ab-e52a-4866-fe6f-18603694fc02",
        "colab": {
          "base_uri": "https://localhost:8080/",
          "height": 105
        }
      },
      "source": [
        "model.save('my_model')"
      ],
      "execution_count": 0,
      "outputs": [
        {
          "output_type": "stream",
          "text": [
            "WARNING:tensorflow:From /usr/local/lib/python3.6/dist-packages/tensorflow/python/ops/resource_variable_ops.py:1817: calling BaseResourceVariable.__init__ (from tensorflow.python.ops.resource_variable_ops) with constraint is deprecated and will be removed in a future version.\n",
            "Instructions for updating:\n",
            "If using Keras pass *_constraint arguments to layers.\n",
            "INFO:tensorflow:Assets written to: my_model/assets\n"
          ],
          "name": "stdout"
        }
      ]
    },
    {
      "cell_type": "code",
      "metadata": {
        "id": "bAP679oKpdjl",
        "colab_type": "code",
        "outputId": "ebe4e7ae-f12b-4365-a0f4-d7b3b845a95c",
        "colab": {
          "base_uri": "https://localhost:8080/",
          "height": 34
        }
      },
      "source": [
        "import shutil\n",
        "shutil.make_archive('my_model', 'zip', 'my_model')"
      ],
      "execution_count": 0,
      "outputs": [
        {
          "output_type": "execute_result",
          "data": {
            "text/plain": [
              "'/content/my_model.zip.zip'"
            ]
          },
          "metadata": {
            "tags": []
          },
          "execution_count": 10
        }
      ]
    },
    {
      "cell_type": "code",
      "metadata": {
        "id": "gNhRaY8etsSK",
        "colab_type": "code",
        "outputId": "f041a9a0-9e8b-4a73-9453-2a4e904037c5",
        "colab": {
          "base_uri": "https://localhost:8080/",
          "height": 34
        }
      },
      "source": [
        "import tensorflow as tf\n",
        "\n",
        "converter = tf.lite.TFLiteConverter.from_saved_model('my_model')\n",
        "tflite_model = converter.convert()\n",
        "open(\"farazist.tflite\", \"wb\").write(tflite_model)"
      ],
      "execution_count": 0,
      "outputs": [
        {
          "output_type": "execute_result",
          "data": {
            "text/plain": [
              "8992236"
            ]
          },
          "metadata": {
            "tags": []
          },
          "execution_count": 13
        }
      ]
    },
    {
      "cell_type": "code",
      "metadata": {
        "id": "o5B8CA065oaU",
        "colab_type": "code",
        "outputId": "dca5c664-7046-4438-cdd5-23e9cf9daa30",
        "colab": {
          "base_uri": "https://localhost:8080/",
          "height": 102
        }
      },
      "source": [
        "import cv2 as cv\n",
        "img = cv.imread('photo.jpg')\n",
        "img = cv.resize(img, (299, 299))\n",
        "img = cv.cvtColor(img, cv.COLOR_BGR2RGB)\n",
        "\n",
        "img = img / 255.0\n",
        "\n",
        "img = img.reshape(1, 299, 299, 3)\n",
        "\n",
        "y_pred = model.predict(img)\n",
        "print(y_pred)\n",
        "print(np.argmax(y_pred))"
      ],
      "execution_count": 0,
      "outputs": [
        {
          "output_type": "stream",
          "text": [
            "[[2.9779755e-04 4.9298689e-07 7.6740027e-05 1.3062366e-09 7.1239114e-08\n",
            "  2.4361536e-02 9.1198422e-03 1.0068750e-05 5.9401607e-08 6.7065279e-03\n",
            "  9.4462734e-01 8.7986784e-03 2.7636106e-05 2.2263576e-03 4.7452792e-07\n",
            "  3.4970781e-03 6.0583574e-05 3.6783764e-05 1.3073877e-04 2.1177702e-05]]\n",
            "10\n"
          ],
          "name": "stdout"
        }
      ]
    },
    {
      "cell_type": "code",
      "metadata": {
        "id": "UQZ5b79ypnCt",
        "colab_type": "code",
        "colab": {}
      },
      "source": [
        ""
      ],
      "execution_count": 0,
      "outputs": []
    },
    {
      "cell_type": "code",
      "metadata": {
        "id": "RchudczSpow7",
        "colab_type": "code",
        "colab": {}
      },
      "source": [
        "from IPython.display import display, Javascript\n",
        "from google.colab.output import eval_js\n",
        "from base64 import b64decode\n",
        "\n",
        "def take_photo(filename='photo.jpg', quality=0.8):\n",
        "  js = Javascript('''\n",
        "    async function takePhoto(quality) {\n",
        "      const div = document.createElement('div');\n",
        "      const capture = document.createElement('button');\n",
        "      capture.textContent = 'Capture';\n",
        "      div.appendChild(capture);\n",
        "\n",
        "      const video = document.createElement('video');\n",
        "      video.style.display = 'block';\n",
        "      const stream = await navigator.mediaDevices.getUserMedia({video: true});\n",
        "\n",
        "      document.body.appendChild(div);\n",
        "      div.appendChild(video);\n",
        "      video.srcObject = stream;\n",
        "      await video.play();\n",
        "\n",
        "      // Resize the output to fit the video element.\n",
        "      google.colab.output.setIframeHeight(document.documentElement.scrollHeight, true);\n",
        "\n",
        "      // Wait for Capture to be clicked.\n",
        "      await new Promise((resolve) => capture.onclick = resolve);\n",
        "\n",
        "      const canvas = document.createElement('canvas');\n",
        "      canvas.width = video.videoWidth;\n",
        "      canvas.height = video.videoHeight;\n",
        "      canvas.getContext('2d').drawImage(video, 0, 0);\n",
        "      stream.getVideoTracks()[0].stop();\n",
        "      div.remove();\n",
        "      return canvas.toDataURL('image/jpeg', quality);\n",
        "    }\n",
        "    ''')\n",
        "  display(js)\n",
        "  data = eval_js('takePhoto({})'.format(quality))\n",
        "  binary = b64decode(data.split(',')[1])\n",
        "  with open(filename, 'wb') as f:\n",
        "    f.write(binary)\n",
        "  return filename"
      ],
      "execution_count": 0,
      "outputs": []
    },
    {
      "cell_type": "code",
      "metadata": {
        "id": "8uTT-BgHpouq",
        "colab_type": "code",
        "colab": {}
      },
      "source": [
        "from IPython.display import Image\n",
        "try:\n",
        "  filename = take_photo()\n",
        "  print('Saved to {}'.format(filename))\n",
        "  \n",
        "  # Show the image which was just taken.\n",
        "  display(Image(filename))\n",
        "except Exception as err:\n",
        "  # Errors will be thrown if the user does not have a webcam or if they do not\n",
        "  # grant the page permission to access it.\n",
        "  print(str(err))"
      ],
      "execution_count": 0,
      "outputs": []
    }
  ]
}